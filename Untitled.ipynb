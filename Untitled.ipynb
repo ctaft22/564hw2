{
 "cells": [
  {
   "cell_type": "code",
   "execution_count": 65,
   "metadata": {},
   "outputs": [
    {
     "name": "stdout",
     "output_type": "stream",
     "text": [
      "The sql extension is already loaded. To reload it, use:\n",
      "  %reload_ext sql\n"
     ]
    }
   ],
   "source": [
    "%load_ext sql\n",
    "%sql sqlite:///test1.db"
   ]
  },
  {
   "cell_type": "code",
   "execution_count": 66,
   "metadata": {},
   "outputs": [
    {
     "name": "stdout",
     "output_type": "stream",
     "text": [
      "   sqlite:///test.db\n",
      " * sqlite:///test1.db\n",
      "Done.\n"
     ]
    },
    {
     "data": {
      "text/html": [
       "<table>\n",
       "    <tr>\n",
       "        <th>count(*)</th>\n",
       "    </tr>\n",
       "    <tr>\n",
       "        <td>13421</td>\n",
       "    </tr>\n",
       "</table>"
      ],
      "text/plain": [
       "[(13421,)]"
      ]
     },
     "execution_count": 66,
     "metadata": {},
     "output_type": "execute_result"
    }
   ],
   "source": [
    "%%sql\n",
    "SELECT count(*)\n",
    "FROM Users"
   ]
  },
  {
   "cell_type": "code",
   "execution_count": 70,
   "metadata": {},
   "outputs": [
    {
     "name": "stdout",
     "output_type": "stream",
     "text": [
      "   sqlite:///test.db\n",
      " * sqlite:///test1.db\n",
      "Done.\n"
     ]
    },
    {
     "data": {
      "text/html": [
       "<table>\n",
       "    <tr>\n",
       "        <th>itemID</th>\n",
       "        <th>category</th>\n",
       "    </tr>\n",
       "    <tr>\n",
       "        <td>1049108254</td>\n",
       "        <td>Collectibles</td>\n",
       "    </tr>\n",
       "    <tr>\n",
       "        <td>1049108254</td>\n",
       "        <td>Figurals</td>\n",
       "    </tr>\n",
       "    <tr>\n",
       "        <td>1049108254</td>\n",
       "        <td>Housewares &amp; Kitchenware</td>\n",
       "    </tr>\n",
       "    <tr>\n",
       "        <td>1049108254</td>\n",
       "        <td>Kitchenware</td>\n",
       "    </tr>\n",
       "    <tr>\n",
       "        <td>1049108254</td>\n",
       "        <td>Salt, Pepper Shakers</td>\n",
       "    </tr>\n",
       "</table>"
      ],
      "text/plain": [
       "[(1049108254, 'Collectibles'),\n",
       " (1049108254, 'Figurals'),\n",
       " (1049108254, 'Housewares & Kitchenware'),\n",
       " (1049108254, 'Kitchenware'),\n",
       " (1049108254, 'Salt, Pepper Shakers')]"
      ]
     },
     "execution_count": 70,
     "metadata": {},
     "output_type": "execute_result"
    }
   ],
   "source": [
    "%%sql\n",
    "SELECT *\n",
    "FROM categories\n",
    "LIMIT 5"
   ]
  },
  {
   "cell_type": "code",
   "execution_count": 69,
   "metadata": {},
   "outputs": [
    {
     "name": "stdout",
     "output_type": "stream",
     "text": [
      "   sqlite:///test.db\n",
      " * sqlite:///test1.db\n",
      "Done.\n"
     ]
    },
    {
     "data": {
      "text/html": [
       "<table>\n",
       "    <tr>\n",
       "        <th>count(*)</th>\n",
       "    </tr>\n",
       "    <tr>\n",
       "        <td>80</td>\n",
       "    </tr>\n",
       "</table>"
      ],
      "text/plain": [
       "[(80,)]"
      ]
     },
     "execution_count": 69,
     "metadata": {},
     "output_type": "execute_result"
    }
   ],
   "source": [
    "%%sql\n",
    "SELECT count(*)\n",
    "FROM Users\n",
    "WHERE 'New York' = Users.location"
   ]
  },
  {
   "cell_type": "code",
   "execution_count": 75,
   "metadata": {},
   "outputs": [
    {
     "name": "stdout",
     "output_type": "stream",
     "text": [
      "   sqlite:///test.db\n",
      " * sqlite:///test1.db\n",
      "Done.\n"
     ]
    },
    {
     "data": {
      "text/html": [
       "<table>\n",
       "    <tr>\n",
       "        <th>itemID</th>\n",
       "        <th>category</th>\n",
       "    </tr>\n",
       "    <tr>\n",
       "        <td>1049108254</td>\n",
       "        <td>Collectibles</td>\n",
       "    </tr>\n",
       "    <tr>\n",
       "        <td>1049108440</td>\n",
       "        <td>Collectibles</td>\n",
       "    </tr>\n",
       "    <tr>\n",
       "        <td>1049109437</td>\n",
       "        <td>Collectibles</td>\n",
       "    </tr>\n",
       "    <tr>\n",
       "        <td>1049109675</td>\n",
       "        <td>Collectibles</td>\n",
       "    </tr>\n",
       "    <tr>\n",
       "        <td>1049110796</td>\n",
       "        <td>Collectibles</td>\n",
       "    </tr>\n",
       "    <tr>\n",
       "        <td>1049111497</td>\n",
       "        <td>Collectibles</td>\n",
       "    </tr>\n",
       "    <tr>\n",
       "        <td>1049111512</td>\n",
       "        <td>Collectibles</td>\n",
       "    </tr>\n",
       "    <tr>\n",
       "        <td>1049113213</td>\n",
       "        <td>Choppers</td>\n",
       "    </tr>\n",
       "    <tr>\n",
       "        <td>1049114064</td>\n",
       "        <td>Collectibles</td>\n",
       "    </tr>\n",
       "    <tr>\n",
       "        <td>1049115447</td>\n",
       "        <td>Collectibles</td>\n",
       "    </tr>\n",
       "    <tr>\n",
       "        <td>1049116901</td>\n",
       "        <td>Collectibles</td>\n",
       "    </tr>\n",
       "    <tr>\n",
       "        <td>1049117062</td>\n",
       "        <td>Collectibles</td>\n",
       "    </tr>\n",
       "    <tr>\n",
       "        <td>1049118492</td>\n",
       "        <td>Collectibles</td>\n",
       "    </tr>\n",
       "    <tr>\n",
       "        <td>1049119156</td>\n",
       "        <td>Collectibles</td>\n",
       "    </tr>\n",
       "    <tr>\n",
       "        <td>1049119320</td>\n",
       "        <td>Bakeware</td>\n",
       "    </tr>\n",
       "    <tr>\n",
       "        <td>1049120160</td>\n",
       "        <td>Collectibles</td>\n",
       "    </tr>\n",
       "    <tr>\n",
       "        <td>1049121259</td>\n",
       "        <td>Collectibles</td>\n",
       "    </tr>\n",
       "    <tr>\n",
       "        <td>1049121677</td>\n",
       "        <td>Collectibles</td>\n",
       "    </tr>\n",
       "    <tr>\n",
       "        <td>1049123847</td>\n",
       "        <td>Baskets</td>\n",
       "    </tr>\n",
       "    <tr>\n",
       "        <td>1049124190</td>\n",
       "        <td>Collectibles</td>\n",
       "    </tr>\n",
       "</table>"
      ],
      "text/plain": [
       "[(1049108254, 'Collectibles'),\n",
       " (1049108440, 'Collectibles'),\n",
       " (1049109437, 'Collectibles'),\n",
       " (1049109675, 'Collectibles'),\n",
       " (1049110796, 'Collectibles'),\n",
       " (1049111497, 'Collectibles'),\n",
       " (1049111512, 'Collectibles'),\n",
       " (1049113213, 'Choppers'),\n",
       " (1049114064, 'Collectibles'),\n",
       " (1049115447, 'Collectibles'),\n",
       " (1049116901, 'Collectibles'),\n",
       " (1049117062, 'Collectibles'),\n",
       " (1049118492, 'Collectibles'),\n",
       " (1049119156, 'Collectibles'),\n",
       " (1049119320, 'Bakeware'),\n",
       " (1049120160, 'Collectibles'),\n",
       " (1049121259, 'Collectibles'),\n",
       " (1049121677, 'Collectibles'),\n",
       " (1049123847, 'Baskets'),\n",
       " (1049124190, 'Collectibles')]"
      ]
     },
     "execution_count": 75,
     "metadata": {},
     "output_type": "execute_result"
    }
   ],
   "source": [
    "%%sql\n",
    "SELECT *\n",
    "FROM Bids, Items\n",
    "WHERE Items.sell"
   ]
  }
 ],
 "metadata": {
  "kernelspec": {
   "display_name": "Python 3",
   "language": "python",
   "name": "python3"
  },
  "language_info": {
   "codemirror_mode": {
    "name": "ipython",
    "version": 3
   },
   "file_extension": ".py",
   "mimetype": "text/x-python",
   "name": "python",
   "nbconvert_exporter": "python",
   "pygments_lexer": "ipython3",
   "version": "3.8.8"
  }
 },
 "nbformat": 4,
 "nbformat_minor": 4
}
