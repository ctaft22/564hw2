{
 "cells": [
  {
   "cell_type": "code",
   "execution_count": 189,
   "metadata": {
    "scrolled": true
   },
   "outputs": [
    {
     "name": "stdout",
     "output_type": "stream",
     "text": [
      "The sql extension is already loaded. To reload it, use:\n",
      "  %reload_ext sql\n"
     ]
    }
   ],
   "source": [
    "%load_ext sql\n",
    "%sql sqlite:///test1.db"
   ]
  },
  {
   "cell_type": "code",
   "execution_count": 181,
   "metadata": {},
   "outputs": [
    {
     "name": "stdout",
     "output_type": "stream",
     "text": [
      "   sqlite:///test.db\n",
      " * sqlite:///test1.db\n",
      "Done.\n"
     ]
    },
    {
     "data": {
      "text/html": [
       "<table>\n",
       "    <tr>\n",
       "        <th>count(*)</th>\n",
       "    </tr>\n",
       "    <tr>\n",
       "        <td>13422</td>\n",
       "    </tr>\n",
       "</table>"
      ],
      "text/plain": [
       "[(13422,)]"
      ]
     },
     "execution_count": 181,
     "metadata": {},
     "output_type": "execute_result"
    }
   ],
   "source": [
    "%%sql\n",
    "SELECT count(*)\n",
    "FROM Users"
   ]
  },
  {
   "cell_type": "code",
   "execution_count": 182,
   "metadata": {},
   "outputs": [
    {
     "name": "stdout",
     "output_type": "stream",
     "text": [
      "   sqlite:///test.db\n",
      " * sqlite:///test1.db\n",
      "Done.\n"
     ]
    },
    {
     "data": {
      "text/html": [
       "<table>\n",
       "    <tr>\n",
       "        <th>itemID</th>\n",
       "        <th>category</th>\n",
       "    </tr>\n",
       "    <tr>\n",
       "        <td>1043374545</td>\n",
       "        <td>Christopher Radko</td>\n",
       "    </tr>\n",
       "    <tr>\n",
       "        <td>1043374545</td>\n",
       "        <td>Collectibles</td>\n",
       "    </tr>\n",
       "    <tr>\n",
       "        <td>1043374545</td>\n",
       "        <td>Decorative &amp; Holiday</td>\n",
       "    </tr>\n",
       "    <tr>\n",
       "        <td>1043374545</td>\n",
       "        <td>Decorative by Brand</td>\n",
       "    </tr>\n",
       "    <tr>\n",
       "        <td>1043397459</td>\n",
       "        <td>Collectibles</td>\n",
       "    </tr>\n",
       "</table>"
      ],
      "text/plain": [
       "[(1043374545, 'Christopher Radko'),\n",
       " (1043374545, 'Collectibles'),\n",
       " (1043374545, 'Decorative & Holiday'),\n",
       " (1043374545, 'Decorative by Brand'),\n",
       " (1043397459, 'Collectibles')]"
      ]
     },
     "execution_count": 182,
     "metadata": {},
     "output_type": "execute_result"
    }
   ],
   "source": [
    "%%sql\n",
    "SELECT *\n",
    "FROM categories\n",
    "LIMIT 5"
   ]
  },
  {
   "cell_type": "code",
   "execution_count": 183,
   "metadata": {},
   "outputs": [
    {
     "name": "stdout",
     "output_type": "stream",
     "text": [
      "   sqlite:///test.db\n",
      " * sqlite:///test1.db\n",
      "Done.\n"
     ]
    },
    {
     "data": {
      "text/html": [
       "<table>\n",
       "    <tr>\n",
       "        <th>count(*)</th>\n",
       "    </tr>\n",
       "    <tr>\n",
       "        <td>80</td>\n",
       "    </tr>\n",
       "</table>"
      ],
      "text/plain": [
       "[(80,)]"
      ]
     },
     "execution_count": 183,
     "metadata": {},
     "output_type": "execute_result"
    }
   ],
   "source": [
    "%%sql\n",
    "SELECT count(*)\n",
    "FROM Users\n",
    "WHERE 'New York' = Users.location"
   ]
  },
  {
   "cell_type": "code",
   "execution_count": 184,
   "metadata": {},
   "outputs": [
    {
     "name": "stdout",
     "output_type": "stream",
     "text": [
      "   sqlite:///test.db\n",
      " * sqlite:///test1.db\n",
      "Done.\n"
     ]
    },
    {
     "data": {
      "text/html": [
       "<table>\n",
       "    <tr>\n",
       "        <th>COUNT(DISTINCT Items.sellerID)</th>\n",
       "    </tr>\n",
       "    <tr>\n",
       "        <td>3130</td>\n",
       "    </tr>\n",
       "</table>"
      ],
      "text/plain": [
       "[(3130,)]"
      ]
     },
     "execution_count": 184,
     "metadata": {},
     "output_type": "execute_result"
    }
   ],
   "source": [
    "%%sql\n",
    "SELECT COUNT(DISTINCT Items.sellerID)\n",
    "FROM Items\n",
    "JOIN Users ON Items.sellerID = Users.userID\n",
    "WHERE Users.rating > 1000\n"
   ]
  },
  {
   "cell_type": "code",
   "execution_count": 185,
   "metadata": {},
   "outputs": [
    {
     "name": "stdout",
     "output_type": "stream",
     "text": [
      "   sqlite:///test.db\n",
      " * sqlite:///test1.db\n",
      "Done.\n"
     ]
    },
    {
     "data": {
      "text/html": [
       "<table>\n",
       "    <tr>\n",
       "        <th>count(DISTINCT Items.sellerID)</th>\n",
       "    </tr>\n",
       "    <tr>\n",
       "        <td>6717</td>\n",
       "    </tr>\n",
       "</table>"
      ],
      "text/plain": [
       "[(6717,)]"
      ]
     },
     "execution_count": 185,
     "metadata": {},
     "output_type": "execute_result"
    }
   ],
   "source": [
    "%%sql\n",
    "SELECT count(DISTINCT Items.sellerID)\n",
    "FROM Items, Bids\n",
    "WHERE Items.sellerID = Bids.userID\n",
    "\n"
   ]
  },
  {
   "cell_type": "code",
   "execution_count": 187,
   "metadata": {},
   "outputs": [
    {
     "name": "stdout",
     "output_type": "stream",
     "text": [
      "   sqlite:///test.db\n",
      " * sqlite:///test1.db\n",
      "Done.\n"
     ]
    },
    {
     "data": {
      "text/html": [
       "<table>\n",
       "    <tr>\n",
       "        <th>count(*)</th>\n",
       "    </tr>\n",
       "    <tr>\n",
       "        <td>8365</td>\n",
       "    </tr>\n",
       "</table>"
      ],
      "text/plain": [
       "[(8365,)]"
      ]
     },
     "execution_count": 187,
     "metadata": {},
     "output_type": "execute_result"
    }
   ],
   "source": [
    "%%sql\n",
    "SELECT count(*)\n",
    "FROM(\n",
    "SELECT count(*)\n",
    "FROM Categories\n",
    "GROUP BY itemID\n",
    "HAVING count(*) = 4\n",
    ")"
   ]
  },
  {
   "cell_type": "code",
   "execution_count": 176,
   "metadata": {},
   "outputs": [
    {
     "name": "stdout",
     "output_type": "stream",
     "text": [
      "   sqlite:///test.db\n",
      " * sqlite:///test1.db\n",
      "(sqlite3.OperationalError) no such column: Bids.itemID\n",
      "[SQL: SELECT count(DISTINCT Categories.category)\n",
      "FROM Categories\n",
      "JOIN Items ON Items.itemID = Categories.itemID\n",
      "JOIN Bids ON Items.itemID = Bids.itemID\n",
      "WHERE Bids.bidAmount > 100]\n",
      "(Background on this error at: http://sqlalche.me/e/14/e3q8)\n"
     ]
    }
   ],
   "source": [
    "%%sql\n",
    "SELECT count(DISTINCT Categories.category)\n",
    "FROM Categories\n",
    "JOIN Items ON Items.itemID = Categories.itemID\n",
    "JOIN Bids ON Items.itemID = Bids.itemID\n",
    "WHERE Bids.bidAmount > 100"
   ]
  },
  {
   "cell_type": "code",
   "execution_count": 177,
   "metadata": {},
   "outputs": [
    {
     "name": "stdout",
     "output_type": "stream",
     "text": [
      "   sqlite:///test.db\n",
      " * sqlite:///test1.db\n",
      "Done.\n"
     ]
    },
    {
     "data": {
      "text/html": [
       "<table>\n",
       "    <tr>\n",
       "        <th>userID</th>\n",
       "        <th>bidTime</th>\n",
       "        <th>bidAmount</th>\n",
       "    </tr>\n",
       "    <tr>\n",
       "        <td>$4bob</td>\n",
       "        <td>2001-12-10 06:22:03</td>\n",
       "        <td>6.33</td>\n",
       "    </tr>\n",
       "</table>"
      ],
      "text/plain": [
       "[('$4bob', '2001-12-10 06:22:03', 6.33)]"
      ]
     },
     "execution_count": 177,
     "metadata": {},
     "output_type": "execute_result"
    }
   ],
   "source": [
    "%%sql\n",
    "SELECT * FROM Bids\n",
    "LIMIT 1"
   ]
  },
  {
   "cell_type": "code",
   "execution_count": null,
   "metadata": {},
   "outputs": [],
   "source": []
  }
 ],
 "metadata": {
  "kernelspec": {
   "display_name": "Python 3",
   "language": "python",
   "name": "python3"
  },
  "language_info": {
   "codemirror_mode": {
    "name": "ipython",
    "version": 3
   },
   "file_extension": ".py",
   "mimetype": "text/x-python",
   "name": "python",
   "nbconvert_exporter": "python",
   "pygments_lexer": "ipython3",
   "version": "3.8.8"
  }
 },
 "nbformat": 4,
 "nbformat_minor": 4
}
