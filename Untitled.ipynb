{
 "cells": [
  {
   "cell_type": "code",
   "execution_count": 65,
   "metadata": {},
   "outputs": [
    {
     "name": "stdout",
     "output_type": "stream",
     "text": [
      "The sql extension is already loaded. To reload it, use:\n",
      "  %reload_ext sql\n"
     ]
    }
   ],
   "source": [
    "%load_ext sql\n",
    "%sql sqlite:///test1.db"
   ]
  },
  {
   "cell_type": "code",
   "execution_count": 151,
   "metadata": {},
   "outputs": [
    {
     "name": "stdout",
     "output_type": "stream",
     "text": [
      "   sqlite:///test.db\n",
      " * sqlite:///test1.db\n",
      "Done.\n"
     ]
    },
    {
     "data": {
      "text/html": [
       "<table>\n",
       "    <tr>\n",
       "        <th>count(*)</th>\n",
       "    </tr>\n",
       "    <tr>\n",
       "        <td>13422</td>\n",
       "    </tr>\n",
       "</table>"
      ],
      "text/plain": [
       "[(13422,)]"
      ]
     },
     "execution_count": 151,
     "metadata": {},
     "output_type": "execute_result"
    }
   ],
   "source": [
    "%%sql\n",
    "SELECT count(*)\n",
    "FROM Users"
   ]
  },
  {
   "cell_type": "code",
   "execution_count": 152,
   "metadata": {},
   "outputs": [
    {
     "name": "stdout",
     "output_type": "stream",
     "text": [
      "   sqlite:///test.db\n",
      " * sqlite:///test1.db\n",
      "Done.\n"
     ]
    },
    {
     "data": {
      "text/html": [
       "<table>\n",
       "    <tr>\n",
       "        <th>itemID</th>\n",
       "        <th>category</th>\n",
       "    </tr>\n",
       "    <tr>\n",
       "        <td>1043374545</td>\n",
       "        <td>Christopher Radko</td>\n",
       "    </tr>\n",
       "    <tr>\n",
       "        <td>1043374545</td>\n",
       "        <td>Collectibles</td>\n",
       "    </tr>\n",
       "    <tr>\n",
       "        <td>1043374545</td>\n",
       "        <td>Decorative &amp; Holiday</td>\n",
       "    </tr>\n",
       "    <tr>\n",
       "        <td>1043374545</td>\n",
       "        <td>Decorative by Brand</td>\n",
       "    </tr>\n",
       "    <tr>\n",
       "        <td>1043397459</td>\n",
       "        <td>Collectibles</td>\n",
       "    </tr>\n",
       "</table>"
      ],
      "text/plain": [
       "[(1043374545, 'Christopher Radko'),\n",
       " (1043374545, 'Collectibles'),\n",
       " (1043374545, 'Decorative & Holiday'),\n",
       " (1043374545, 'Decorative by Brand'),\n",
       " (1043397459, 'Collectibles')]"
      ]
     },
     "execution_count": 152,
     "metadata": {},
     "output_type": "execute_result"
    }
   ],
   "source": [
    "%%sql\n",
    "SELECT *\n",
    "FROM categories\n",
    "LIMIT 5"
   ]
  },
  {
   "cell_type": "code",
   "execution_count": 153,
   "metadata": {},
   "outputs": [
    {
     "name": "stdout",
     "output_type": "stream",
     "text": [
      "   sqlite:///test.db\n",
      " * sqlite:///test1.db\n",
      "Done.\n"
     ]
    },
    {
     "data": {
      "text/html": [
       "<table>\n",
       "    <tr>\n",
       "        <th>count(*)</th>\n",
       "    </tr>\n",
       "    <tr>\n",
       "        <td>80</td>\n",
       "    </tr>\n",
       "</table>"
      ],
      "text/plain": [
       "[(80,)]"
      ]
     },
     "execution_count": 153,
     "metadata": {},
     "output_type": "execute_result"
    }
   ],
   "source": [
    "%%sql\n",
    "SELECT count(*)\n",
    "FROM Users\n",
    "WHERE 'New York' = Users.location"
   ]
  },
  {
   "cell_type": "code",
   "execution_count": 154,
   "metadata": {},
   "outputs": [
    {
     "name": "stdout",
     "output_type": "stream",
     "text": [
      "   sqlite:///test.db\n",
      " * sqlite:///test1.db\n",
      "Done.\n"
     ]
    },
    {
     "data": {
      "text/html": [
       "<table>\n",
       "    <tr>\n",
       "        <th>count(*)</th>\n",
       "    </tr>\n",
       "    <tr>\n",
       "        <td>8365</td>\n",
       "    </tr>\n",
       "</table>"
      ],
      "text/plain": [
       "[(8365,)]"
      ]
     },
     "execution_count": 154,
     "metadata": {},
     "output_type": "execute_result"
    }
   ],
   "source": [
    "%%sql\n",
    "SELECT count(*)\n",
    "FROM(\n",
    "SELECT count(*)\n",
    "FROM Categories\n",
    "GROUP BY itemID\n",
    "HAVING count(*) = 4\n",
    ")"
   ]
  },
  {
   "cell_type": "code",
   "execution_count": 155,
   "metadata": {},
   "outputs": [
    {
     "name": "stdout",
     "output_type": "stream",
     "text": [
      "   sqlite:///test.db\n",
      " * sqlite:///test1.db\n",
      "Done.\n"
     ]
    },
    {
     "data": {
      "text/html": [
       "<table>\n",
       "    <tr>\n",
       "        <th>itemID</th>\n",
       "    </tr>\n",
       "    <tr>\n",
       "        <td>1046871451</td>\n",
       "    </tr>\n",
       "</table>"
      ],
      "text/plain": [
       "[(1046871451,)]"
      ]
     },
     "execution_count": 155,
     "metadata": {},
     "output_type": "execute_result"
    }
   ],
   "source": [
    "%%sql\n",
    "SELECT itemID\n",
    "FROM Items\n",
    "ORDER BY currently DESC\n",
    "LIMIT 1"
   ]
  },
  {
   "cell_type": "code",
   "execution_count": 156,
   "metadata": {},
   "outputs": [
    {
     "name": "stdout",
     "output_type": "stream",
     "text": [
      "   sqlite:///test.db\n",
      " * sqlite:///test1.db\n",
      "Done.\n"
     ]
    },
    {
     "data": {
      "text/html": [
       "<table>\n",
       "    <tr>\n",
       "        <th>COUNT(DISTINCT sellerID)</th>\n",
       "    </tr>\n",
       "    <tr>\n",
       "        <td>3130</td>\n",
       "    </tr>\n",
       "</table>"
      ],
      "text/plain": [
       "[(3130,)]"
      ]
     },
     "execution_count": 156,
     "metadata": {},
     "output_type": "execute_result"
    }
   ],
   "source": [
    "%%sql\n",
    "SELECT COUNT(DISTINCT sellerID)\n",
    "FROM Items\n",
    "JOIN Users on Items.sellerID = Users.userID\n",
    "WHERE Users.rating > 1000"
   ]
  },
  {
   "cell_type": "code",
   "execution_count": 148,
   "metadata": {},
   "outputs": [
    {
     "name": "stdout",
     "output_type": "stream",
     "text": [
      "   sqlite:///test.db\n",
      " * sqlite:///test1.db\n",
      "Done.\n"
     ]
    },
    {
     "data": {
      "text/html": [
       "<table>\n",
       "    <tr>\n",
       "        <th>itemID</th>\n",
       "        <th>category</th>\n",
       "        <th>itemID_1</th>\n",
       "        <th>itemName</th>\n",
       "        <th>currently</th>\n",
       "        <th>buyPrice</th>\n",
       "        <th>firstBid</th>\n",
       "        <th>numBid</th>\n",
       "        <th>startDate</th>\n",
       "        <th>endDate</th>\n",
       "        <th>description</th>\n",
       "        <th>sellerID</th>\n",
       "    </tr>\n",
       "    <tr>\n",
       "        <td>1043749860</td>\n",
       "        <td>Collectibles</td>\n",
       "        <td>1043749860</td>\n",
       "        <td>CGC 9.0 80 PAGE GIANT #8 SECRET ORIGINS VF/NM</td>\n",
       "        <td>197.5</td>\n",
       "        <td>NULL</td>\n",
       "        <td>0.99</td>\n",
       "        <td>12</td>\n",
       "        <td>2001-12-04 14:36:30</td>\n",
       "        <td>2001-12-14 14:36:30</td>\n",
       "        <td>According to the CGC census their are only 3 higher graded copies of this book in the world. KILLER BOOK! One owner (CAPTWHIZ)! COMBINE SHIPPING! This comic book is graded VFN/NM 9.0 by CGC! Any waves, bends or flashes in the photos is just BAD photography. This is the BLUE LABEL which means NO RESTORATION!! NUFF SAID! The NM price is $450.00. SUPERFAST shipping only $3.95, international extra! PayPal accepted.</td>\n",
       "        <td>captwhiz</td>\n",
       "    </tr>\n",
       "    <tr>\n",
       "        <td>1043749860</td>\n",
       "        <td>Comics</td>\n",
       "        <td>1043749860</td>\n",
       "        <td>CGC 9.0 80 PAGE GIANT #8 SECRET ORIGINS VF/NM</td>\n",
       "        <td>197.5</td>\n",
       "        <td>NULL</td>\n",
       "        <td>0.99</td>\n",
       "        <td>12</td>\n",
       "        <td>2001-12-04 14:36:30</td>\n",
       "        <td>2001-12-14 14:36:30</td>\n",
       "        <td>According to the CGC census their are only 3 higher graded copies of this book in the world. KILLER BOOK! One owner (CAPTWHIZ)! COMBINE SHIPPING! This comic book is graded VFN/NM 9.0 by CGC! Any waves, bends or flashes in the photos is just BAD photography. This is the BLUE LABEL which means NO RESTORATION!! NUFF SAID! The NM price is $450.00. SUPERFAST shipping only $3.95, international extra! PayPal accepted.</td>\n",
       "        <td>captwhiz</td>\n",
       "    </tr>\n",
       "    <tr>\n",
       "        <td>1043749860</td>\n",
       "        <td>Horror, Sci-Fi</td>\n",
       "        <td>1043749860</td>\n",
       "        <td>CGC 9.0 80 PAGE GIANT #8 SECRET ORIGINS VF/NM</td>\n",
       "        <td>197.5</td>\n",
       "        <td>NULL</td>\n",
       "        <td>0.99</td>\n",
       "        <td>12</td>\n",
       "        <td>2001-12-04 14:36:30</td>\n",
       "        <td>2001-12-14 14:36:30</td>\n",
       "        <td>According to the CGC census their are only 3 higher graded copies of this book in the world. KILLER BOOK! One owner (CAPTWHIZ)! COMBINE SHIPPING! This comic book is graded VFN/NM 9.0 by CGC! Any waves, bends or flashes in the photos is just BAD photography. This is the BLUE LABEL which means NO RESTORATION!! NUFF SAID! The NM price is $450.00. SUPERFAST shipping only $3.95, international extra! PayPal accepted.</td>\n",
       "        <td>captwhiz</td>\n",
       "    </tr>\n",
       "    <tr>\n",
       "        <td>1043749860</td>\n",
       "        <td>Pop Culture</td>\n",
       "        <td>1043749860</td>\n",
       "        <td>CGC 9.0 80 PAGE GIANT #8 SECRET ORIGINS VF/NM</td>\n",
       "        <td>197.5</td>\n",
       "        <td>NULL</td>\n",
       "        <td>0.99</td>\n",
       "        <td>12</td>\n",
       "        <td>2001-12-04 14:36:30</td>\n",
       "        <td>2001-12-14 14:36:30</td>\n",
       "        <td>According to the CGC census their are only 3 higher graded copies of this book in the world. KILLER BOOK! One owner (CAPTWHIZ)! COMBINE SHIPPING! This comic book is graded VFN/NM 9.0 by CGC! Any waves, bends or flashes in the photos is just BAD photography. This is the BLUE LABEL which means NO RESTORATION!! NUFF SAID! The NM price is $450.00. SUPERFAST shipping only $3.95, international extra! PayPal accepted.</td>\n",
       "        <td>captwhiz</td>\n",
       "    </tr>\n",
       "    <tr>\n",
       "        <td>1043749860</td>\n",
       "        <td>Silver Age (1956-69)</td>\n",
       "        <td>1043749860</td>\n",
       "        <td>CGC 9.0 80 PAGE GIANT #8 SECRET ORIGINS VF/NM</td>\n",
       "        <td>197.5</td>\n",
       "        <td>NULL</td>\n",
       "        <td>0.99</td>\n",
       "        <td>12</td>\n",
       "        <td>2001-12-04 14:36:30</td>\n",
       "        <td>2001-12-14 14:36:30</td>\n",
       "        <td>According to the CGC census their are only 3 higher graded copies of this book in the world. KILLER BOOK! One owner (CAPTWHIZ)! COMBINE SHIPPING! This comic book is graded VFN/NM 9.0 by CGC! Any waves, bends or flashes in the photos is just BAD photography. This is the BLUE LABEL which means NO RESTORATION!! NUFF SAID! The NM price is $450.00. SUPERFAST shipping only $3.95, international extra! PayPal accepted.</td>\n",
       "        <td>captwhiz</td>\n",
       "    </tr>\n",
       "    <tr>\n",
       "        <td>1044367519</td>\n",
       "        <td>Collectibles</td>\n",
       "        <td>1044367519</td>\n",
       "        <td>CGC 9.2 NM- MIGHTY HEROES #4, W/ MIGHTY MOUSE</td>\n",
       "        <td>115.0</td>\n",
       "        <td>NULL</td>\n",
       "        <td>115.0</td>\n",
       "        <td>0</td>\n",
       "        <td>2001-12-05 17:19:55</td>\n",
       "        <td>2001-12-15 17:19:55</td>\n",
       "        <td>if (navigator.appName == &#x27;Microsoft Internet Explorer&#x27;) { if (navigator.appVersion.substring(0,1) &quot;); } else { document.write(&quot; &quot;); document.write(&quot; &quot;); document.write(&quot; &quot;); document.write(&quot; BODY { background: url(http://www.onceuponyourwedding.com/cindrblk.gif) }&quot;); document.write(&quot; &quot;); document.write(&quot; &quot;); } } else { //Default to Netscape settings. document.write(&quot; &quot;); } CGC 9.2 NM- MIGHTY HEROES #4, W/ MIGHTY MOUSE Diamond International Galleries eBay Listing for: THE MIGHTY HEROES #4 DELL PUBLISHING, 1967 CGC 9.2 NM- Here it comes to save your day! Another amazing offering from our incredible vault. Featuring everyone&#x27;s favorite super rodent, Mighty Mouse! This cover is so vibrant, it must be seen in person to truly be appreciated. Put in your mighty bid for this mighty book mighty soon, it won&#x27;t be around long! ~DIAMONDINTLGAL NO RESERVE CREDIT CARDS ARE ACCEPTED. PERSONAL CHECKS MUST CLEAR PRIOR TO SHIPPING. DON&#x27;T FORGET TO SEND US YOUR WANT LIST! CONTACT US TO BE PUT ON OUR E-MAILING LIST OF NEW AND UPCOMING AUCTIONS!! Buyer to pay $5.00 for shipping and handling. MD shipments must add 5% sales tax. SATISFACTION GUARANTEED! WE MUST BE INFORMED WITHIN 3 DAYS OF RECEIPT OF YOUR INTENTION TO RETURN AND BOOK MUST BE RETURNED IMMEDIATELY FOLLOWING. UPON VERIFICATION THAT THE BOOK IS IN THE SAME CONDITION AS WHEN WE SHIPPED IT OUT, A REFUND WILL BE GRANTED. WE SHIP UPS. Complimentary insurance. CHECK OUT OUR OTHER GREAT AUCTIONS! Click here to view my other auctions. This listing created by eBay Seller&#x27;s Assistant Pro Payment Details See item description and Payment Instructions, or contact seller for more information. Payment Instructions See item description or contact seller for more information.</td>\n",
       "        <td>diamondintlgal</td>\n",
       "    </tr>\n",
       "    <tr>\n",
       "        <td>1044367519</td>\n",
       "        <td>Comics</td>\n",
       "        <td>1044367519</td>\n",
       "        <td>CGC 9.2 NM- MIGHTY HEROES #4, W/ MIGHTY MOUSE</td>\n",
       "        <td>115.0</td>\n",
       "        <td>NULL</td>\n",
       "        <td>115.0</td>\n",
       "        <td>0</td>\n",
       "        <td>2001-12-05 17:19:55</td>\n",
       "        <td>2001-12-15 17:19:55</td>\n",
       "        <td>if (navigator.appName == &#x27;Microsoft Internet Explorer&#x27;) { if (navigator.appVersion.substring(0,1) &quot;); } else { document.write(&quot; &quot;); document.write(&quot; &quot;); document.write(&quot; &quot;); document.write(&quot; BODY { background: url(http://www.onceuponyourwedding.com/cindrblk.gif) }&quot;); document.write(&quot; &quot;); document.write(&quot; &quot;); } } else { //Default to Netscape settings. document.write(&quot; &quot;); } CGC 9.2 NM- MIGHTY HEROES #4, W/ MIGHTY MOUSE Diamond International Galleries eBay Listing for: THE MIGHTY HEROES #4 DELL PUBLISHING, 1967 CGC 9.2 NM- Here it comes to save your day! Another amazing offering from our incredible vault. Featuring everyone&#x27;s favorite super rodent, Mighty Mouse! This cover is so vibrant, it must be seen in person to truly be appreciated. Put in your mighty bid for this mighty book mighty soon, it won&#x27;t be around long! ~DIAMONDINTLGAL NO RESERVE CREDIT CARDS ARE ACCEPTED. PERSONAL CHECKS MUST CLEAR PRIOR TO SHIPPING. DON&#x27;T FORGET TO SEND US YOUR WANT LIST! CONTACT US TO BE PUT ON OUR E-MAILING LIST OF NEW AND UPCOMING AUCTIONS!! Buyer to pay $5.00 for shipping and handling. MD shipments must add 5% sales tax. SATISFACTION GUARANTEED! WE MUST BE INFORMED WITHIN 3 DAYS OF RECEIPT OF YOUR INTENTION TO RETURN AND BOOK MUST BE RETURNED IMMEDIATELY FOLLOWING. UPON VERIFICATION THAT THE BOOK IS IN THE SAME CONDITION AS WHEN WE SHIPPED IT OUT, A REFUND WILL BE GRANTED. WE SHIP UPS. Complimentary insurance. CHECK OUT OUR OTHER GREAT AUCTIONS! Click here to view my other auctions. This listing created by eBay Seller&#x27;s Assistant Pro Payment Details See item description and Payment Instructions, or contact seller for more information. Payment Instructions See item description or contact seller for more information.</td>\n",
       "        <td>diamondintlgal</td>\n",
       "    </tr>\n",
       "    <tr>\n",
       "        <td>1044367519</td>\n",
       "        <td>Pop Culture</td>\n",
       "        <td>1044367519</td>\n",
       "        <td>CGC 9.2 NM- MIGHTY HEROES #4, W/ MIGHTY MOUSE</td>\n",
       "        <td>115.0</td>\n",
       "        <td>NULL</td>\n",
       "        <td>115.0</td>\n",
       "        <td>0</td>\n",
       "        <td>2001-12-05 17:19:55</td>\n",
       "        <td>2001-12-15 17:19:55</td>\n",
       "        <td>if (navigator.appName == &#x27;Microsoft Internet Explorer&#x27;) { if (navigator.appVersion.substring(0,1) &quot;); } else { document.write(&quot; &quot;); document.write(&quot; &quot;); document.write(&quot; &quot;); document.write(&quot; BODY { background: url(http://www.onceuponyourwedding.com/cindrblk.gif) }&quot;); document.write(&quot; &quot;); document.write(&quot; &quot;); } } else { //Default to Netscape settings. document.write(&quot; &quot;); } CGC 9.2 NM- MIGHTY HEROES #4, W/ MIGHTY MOUSE Diamond International Galleries eBay Listing for: THE MIGHTY HEROES #4 DELL PUBLISHING, 1967 CGC 9.2 NM- Here it comes to save your day! Another amazing offering from our incredible vault. Featuring everyone&#x27;s favorite super rodent, Mighty Mouse! This cover is so vibrant, it must be seen in person to truly be appreciated. Put in your mighty bid for this mighty book mighty soon, it won&#x27;t be around long! ~DIAMONDINTLGAL NO RESERVE CREDIT CARDS ARE ACCEPTED. PERSONAL CHECKS MUST CLEAR PRIOR TO SHIPPING. DON&#x27;T FORGET TO SEND US YOUR WANT LIST! CONTACT US TO BE PUT ON OUR E-MAILING LIST OF NEW AND UPCOMING AUCTIONS!! Buyer to pay $5.00 for shipping and handling. MD shipments must add 5% sales tax. SATISFACTION GUARANTEED! WE MUST BE INFORMED WITHIN 3 DAYS OF RECEIPT OF YOUR INTENTION TO RETURN AND BOOK MUST BE RETURNED IMMEDIATELY FOLLOWING. UPON VERIFICATION THAT THE BOOK IS IN THE SAME CONDITION AS WHEN WE SHIPPED IT OUT, A REFUND WILL BE GRANTED. WE SHIP UPS. Complimentary insurance. CHECK OUT OUR OTHER GREAT AUCTIONS! Click here to view my other auctions. This listing created by eBay Seller&#x27;s Assistant Pro Payment Details See item description and Payment Instructions, or contact seller for more information. Payment Instructions See item description or contact seller for more information.</td>\n",
       "        <td>diamondintlgal</td>\n",
       "    </tr>\n",
       "    <tr>\n",
       "        <td>1044367519</td>\n",
       "        <td>Silver Age (1956-69)</td>\n",
       "        <td>1044367519</td>\n",
       "        <td>CGC 9.2 NM- MIGHTY HEROES #4, W/ MIGHTY MOUSE</td>\n",
       "        <td>115.0</td>\n",
       "        <td>NULL</td>\n",
       "        <td>115.0</td>\n",
       "        <td>0</td>\n",
       "        <td>2001-12-05 17:19:55</td>\n",
       "        <td>2001-12-15 17:19:55</td>\n",
       "        <td>if (navigator.appName == &#x27;Microsoft Internet Explorer&#x27;) { if (navigator.appVersion.substring(0,1) &quot;); } else { document.write(&quot; &quot;); document.write(&quot; &quot;); document.write(&quot; &quot;); document.write(&quot; BODY { background: url(http://www.onceuponyourwedding.com/cindrblk.gif) }&quot;); document.write(&quot; &quot;); document.write(&quot; &quot;); } } else { //Default to Netscape settings. document.write(&quot; &quot;); } CGC 9.2 NM- MIGHTY HEROES #4, W/ MIGHTY MOUSE Diamond International Galleries eBay Listing for: THE MIGHTY HEROES #4 DELL PUBLISHING, 1967 CGC 9.2 NM- Here it comes to save your day! Another amazing offering from our incredible vault. Featuring everyone&#x27;s favorite super rodent, Mighty Mouse! This cover is so vibrant, it must be seen in person to truly be appreciated. Put in your mighty bid for this mighty book mighty soon, it won&#x27;t be around long! ~DIAMONDINTLGAL NO RESERVE CREDIT CARDS ARE ACCEPTED. PERSONAL CHECKS MUST CLEAR PRIOR TO SHIPPING. DON&#x27;T FORGET TO SEND US YOUR WANT LIST! CONTACT US TO BE PUT ON OUR E-MAILING LIST OF NEW AND UPCOMING AUCTIONS!! Buyer to pay $5.00 for shipping and handling. MD shipments must add 5% sales tax. SATISFACTION GUARANTEED! WE MUST BE INFORMED WITHIN 3 DAYS OF RECEIPT OF YOUR INTENTION TO RETURN AND BOOK MUST BE RETURNED IMMEDIATELY FOLLOWING. UPON VERIFICATION THAT THE BOOK IS IN THE SAME CONDITION AS WHEN WE SHIPPED IT OUT, A REFUND WILL BE GRANTED. WE SHIP UPS. Complimentary insurance. CHECK OUT OUR OTHER GREAT AUCTIONS! Click here to view my other auctions. This listing created by eBay Seller&#x27;s Assistant Pro Payment Details See item description and Payment Instructions, or contact seller for more information. Payment Instructions See item description or contact seller for more information.</td>\n",
       "        <td>diamondintlgal</td>\n",
       "    </tr>\n",
       "    <tr>\n",
       "        <td>1044367519</td>\n",
       "        <td>Superhero</td>\n",
       "        <td>1044367519</td>\n",
       "        <td>CGC 9.2 NM- MIGHTY HEROES #4, W/ MIGHTY MOUSE</td>\n",
       "        <td>115.0</td>\n",
       "        <td>NULL</td>\n",
       "        <td>115.0</td>\n",
       "        <td>0</td>\n",
       "        <td>2001-12-05 17:19:55</td>\n",
       "        <td>2001-12-15 17:19:55</td>\n",
       "        <td>if (navigator.appName == &#x27;Microsoft Internet Explorer&#x27;) { if (navigator.appVersion.substring(0,1) &quot;); } else { document.write(&quot; &quot;); document.write(&quot; &quot;); document.write(&quot; &quot;); document.write(&quot; BODY { background: url(http://www.onceuponyourwedding.com/cindrblk.gif) }&quot;); document.write(&quot; &quot;); document.write(&quot; &quot;); } } else { //Default to Netscape settings. document.write(&quot; &quot;); } CGC 9.2 NM- MIGHTY HEROES #4, W/ MIGHTY MOUSE Diamond International Galleries eBay Listing for: THE MIGHTY HEROES #4 DELL PUBLISHING, 1967 CGC 9.2 NM- Here it comes to save your day! Another amazing offering from our incredible vault. Featuring everyone&#x27;s favorite super rodent, Mighty Mouse! This cover is so vibrant, it must be seen in person to truly be appreciated. Put in your mighty bid for this mighty book mighty soon, it won&#x27;t be around long! ~DIAMONDINTLGAL NO RESERVE CREDIT CARDS ARE ACCEPTED. PERSONAL CHECKS MUST CLEAR PRIOR TO SHIPPING. DON&#x27;T FORGET TO SEND US YOUR WANT LIST! CONTACT US TO BE PUT ON OUR E-MAILING LIST OF NEW AND UPCOMING AUCTIONS!! Buyer to pay $5.00 for shipping and handling. MD shipments must add 5% sales tax. SATISFACTION GUARANTEED! WE MUST BE INFORMED WITHIN 3 DAYS OF RECEIPT OF YOUR INTENTION TO RETURN AND BOOK MUST BE RETURNED IMMEDIATELY FOLLOWING. UPON VERIFICATION THAT THE BOOK IS IN THE SAME CONDITION AS WHEN WE SHIPPED IT OUT, A REFUND WILL BE GRANTED. WE SHIP UPS. Complimentary insurance. CHECK OUT OUR OTHER GREAT AUCTIONS! Click here to view my other auctions. This listing created by eBay Seller&#x27;s Assistant Pro Payment Details See item description and Payment Instructions, or contact seller for more information. Payment Instructions See item description or contact seller for more information.</td>\n",
       "        <td>diamondintlgal</td>\n",
       "    </tr>\n",
       "</table>"
      ],
      "text/plain": [
       "[(1043749860, 'Collectibles', 1043749860, 'CGC 9.0 80 PAGE GIANT #8 SECRET ORIGINS VF/NM', 197.5, 'NULL', 0.99, 12, '2001-12-04 14:36:30', '2001-12-14 14:36:30', 'According to the CGC census their are only 3 higher graded copies of this book in the world. KILLER BOOK! One owner (CAPTWHIZ)! COMBINE SHIPPING! Thi ... (116 characters truncated) ...  the BLUE LABEL which means NO RESTORATION!! NUFF SAID! The NM price is $450.00. SUPERFAST shipping only $3.95, international extra! PayPal accepted.', 'captwhiz'),\n",
       " (1043749860, 'Comics', 1043749860, 'CGC 9.0 80 PAGE GIANT #8 SECRET ORIGINS VF/NM', 197.5, 'NULL', 0.99, 12, '2001-12-04 14:36:30', '2001-12-14 14:36:30', 'According to the CGC census their are only 3 higher graded copies of this book in the world. KILLER BOOK! One owner (CAPTWHIZ)! COMBINE SHIPPING! Thi ... (116 characters truncated) ...  the BLUE LABEL which means NO RESTORATION!! NUFF SAID! The NM price is $450.00. SUPERFAST shipping only $3.95, international extra! PayPal accepted.', 'captwhiz'),\n",
       " (1043749860, 'Horror, Sci-Fi', 1043749860, 'CGC 9.0 80 PAGE GIANT #8 SECRET ORIGINS VF/NM', 197.5, 'NULL', 0.99, 12, '2001-12-04 14:36:30', '2001-12-14 14:36:30', 'According to the CGC census their are only 3 higher graded copies of this book in the world. KILLER BOOK! One owner (CAPTWHIZ)! COMBINE SHIPPING! Thi ... (116 characters truncated) ...  the BLUE LABEL which means NO RESTORATION!! NUFF SAID! The NM price is $450.00. SUPERFAST shipping only $3.95, international extra! PayPal accepted.', 'captwhiz'),\n",
       " (1043749860, 'Pop Culture', 1043749860, 'CGC 9.0 80 PAGE GIANT #8 SECRET ORIGINS VF/NM', 197.5, 'NULL', 0.99, 12, '2001-12-04 14:36:30', '2001-12-14 14:36:30', 'According to the CGC census their are only 3 higher graded copies of this book in the world. KILLER BOOK! One owner (CAPTWHIZ)! COMBINE SHIPPING! Thi ... (116 characters truncated) ...  the BLUE LABEL which means NO RESTORATION!! NUFF SAID! The NM price is $450.00. SUPERFAST shipping only $3.95, international extra! PayPal accepted.', 'captwhiz'),\n",
       " (1043749860, 'Silver Age (1956-69)', 1043749860, 'CGC 9.0 80 PAGE GIANT #8 SECRET ORIGINS VF/NM', 197.5, 'NULL', 0.99, 12, '2001-12-04 14:36:30', '2001-12-14 14:36:30', 'According to the CGC census their are only 3 higher graded copies of this book in the world. KILLER BOOK! One owner (CAPTWHIZ)! COMBINE SHIPPING! Thi ... (116 characters truncated) ...  the BLUE LABEL which means NO RESTORATION!! NUFF SAID! The NM price is $450.00. SUPERFAST shipping only $3.95, international extra! PayPal accepted.', 'captwhiz'),\n",
       " (1044367519, 'Collectibles', 1044367519, 'CGC 9.2 NM- MIGHTY HEROES #4, W/ MIGHTY MOUSE', 115.0, 'NULL', 115.0, 0, '2001-12-05 17:19:55', '2001-12-15 17:19:55', 'if (navigator.appName == \\'Microsoft Internet Explorer\\') { if (navigator.appVersion.substring(0,1) \"); } else { document.write(\" \"); document.write( ... (1437 characters truncated) ... n and Payment Instructions, or contact seller for more information. Payment Instructions See item description or contact seller for more information.', 'diamondintlgal'),\n",
       " (1044367519, 'Comics', 1044367519, 'CGC 9.2 NM- MIGHTY HEROES #4, W/ MIGHTY MOUSE', 115.0, 'NULL', 115.0, 0, '2001-12-05 17:19:55', '2001-12-15 17:19:55', 'if (navigator.appName == \\'Microsoft Internet Explorer\\') { if (navigator.appVersion.substring(0,1) \"); } else { document.write(\" \"); document.write( ... (1437 characters truncated) ... n and Payment Instructions, or contact seller for more information. Payment Instructions See item description or contact seller for more information.', 'diamondintlgal'),\n",
       " (1044367519, 'Pop Culture', 1044367519, 'CGC 9.2 NM- MIGHTY HEROES #4, W/ MIGHTY MOUSE', 115.0, 'NULL', 115.0, 0, '2001-12-05 17:19:55', '2001-12-15 17:19:55', 'if (navigator.appName == \\'Microsoft Internet Explorer\\') { if (navigator.appVersion.substring(0,1) \"); } else { document.write(\" \"); document.write( ... (1437 characters truncated) ... n and Payment Instructions, or contact seller for more information. Payment Instructions See item description or contact seller for more information.', 'diamondintlgal'),\n",
       " (1044367519, 'Silver Age (1956-69)', 1044367519, 'CGC 9.2 NM- MIGHTY HEROES #4, W/ MIGHTY MOUSE', 115.0, 'NULL', 115.0, 0, '2001-12-05 17:19:55', '2001-12-15 17:19:55', 'if (navigator.appName == \\'Microsoft Internet Explorer\\') { if (navigator.appVersion.substring(0,1) \"); } else { document.write(\" \"); document.write( ... (1437 characters truncated) ... n and Payment Instructions, or contact seller for more information. Payment Instructions See item description or contact seller for more information.', 'diamondintlgal'),\n",
       " (1044367519, 'Superhero', 1044367519, 'CGC 9.2 NM- MIGHTY HEROES #4, W/ MIGHTY MOUSE', 115.0, 'NULL', 115.0, 0, '2001-12-05 17:19:55', '2001-12-15 17:19:55', 'if (navigator.appName == \\'Microsoft Internet Explorer\\') { if (navigator.appVersion.substring(0,1) \"); } else { document.write(\" \"); document.write( ... (1437 characters truncated) ... n and Payment Instructions, or contact seller for more information. Payment Instructions See item description or contact seller for more information.', 'diamondintlgal')]"
      ]
     },
     "execution_count": 148,
     "metadata": {},
     "output_type": "execute_result"
    }
   ],
   "source": [
    "%%sql\n",
    "SELECT *\n",
    "FROM Categories\n",
    "JOIN Items on Categories.itemID = Items.itemID\n",
    "WHERE Items.currently > 100\n",
    "LIMIT 10"
   ]
  }
 ],
 "metadata": {
  "kernelspec": {
   "display_name": "Python 3",
   "language": "python",
   "name": "python3"
  },
  "language_info": {
   "codemirror_mode": {
    "name": "ipython",
    "version": 3
   },
   "file_extension": ".py",
   "mimetype": "text/x-python",
   "name": "python",
   "nbconvert_exporter": "python",
   "pygments_lexer": "ipython3",
   "version": "3.8.8"
  }
 },
 "nbformat": 4,
 "nbformat_minor": 4
}
